{
 "cells": [
  {
   "cell_type": "code",
   "execution_count": 1,
   "metadata": {},
   "outputs": [
    {
     "name": "stderr",
     "output_type": "stream",
     "text": [
      "Using TensorFlow backend.\n"
     ]
    }
   ],
   "source": [
    "from dl_util import *\n",
    "from ml_util import *\n",
    "\n",
    "import seaborn as sns\n",
    "import math\n",
    "import collections"
   ]
  },
  {
   "cell_type": "markdown",
   "metadata": {},
   "source": [
    "### Merged Barcharts Examples"
   ]
  },
  {
   "cell_type": "code",
   "execution_count": 2,
   "metadata": {},
   "outputs": [],
   "source": [
    "model_names_keys = ['sinet', 'cnn','rnn', 'smiles+inchi'][::-1]\n",
    "model_names_values = [ 'SINet', 'SMILES', 'InChI', 'SMILES+InChI'][::-1]\n",
    "model_types_reduced = collections.OrderedDict()\n",
    "\n",
    "for i in range(len(model_names_keys)):\n",
    "    key = model_names_keys[i]\n",
    "    model_types_reduced[key] = model_names_values[i]\n",
    "    \n",
    "    \n",
    "colors = ['red','blue','orange','pink','aquamarine','lightcoral','green','mediumpurple','darkseagreen','brown']"
   ]
  },
  {
   "cell_type": "code",
   "execution_count": 3,
   "metadata": {},
   "outputs": [],
   "source": [
    "def get_model_type(model_filename,dataset):\n",
    "    try:\n",
    "        model_name = model_filename.split(dataset+\"_\")[1].split(\"_model_\")[0]\n",
    "    except:\n",
    "        model_name = model_filename.split(dataset+\"_standardized_\")[1].split(\"_model_\")[0]\n",
    "    if \"merged_\" in model_name:\n",
    "        model_name = model_name.split(\"merged_\")[1]\n",
    "    if \"gru\" in model_name:\n",
    "        model_name = model_name.replace(\"gru\", \"rnn\")\n",
    "    elif \"lstm\" in model_name:\n",
    "        model_name = model_name.replace(\"lstm\", \"rnn\")\n",
    "    return model_name\n",
    "\n",
    "def extract_metric_from_model_stats(stats_files,dataset,metric=\"auc\"):\n",
    "    dict_model_metrics = {}\n",
    "    for file in stats_files:\n",
    "        stats = loadData(file,\"model\")\n",
    "        model_type = get_model_type(file,dataset)\n",
    "        if metric ==\"mae\" or metric == \"mse\" or metric == \"mape\":\n",
    "            if model_type not in dict_model_metrics.keys() or  stats[metric]<dict_model_metrics[model_type]:\n",
    "                dict_model_metrics[model_type] = stats[metric]\n",
    "        elif metric == \"auc\" or metric == \"accuracy\" or metric == \"precision\" or metric.lower() == \"r2\":\n",
    "            if model_type not in dict_model_metrics.keys() or  stats[metric]>dict_model_metrics[model_type]:\n",
    "                dict_model_metrics[model_type] = stats[metric]\n",
    "        else:\n",
    "            return \"metric not recognized\"\n",
    "    return dict_model_metrics"
   ]
  },
  {
   "cell_type": "code",
   "execution_count": 4,
   "metadata": {},
   "outputs": [],
   "source": [
    "def barplot_from_dict_mape(dictionary,height=0.5,colors=None,title=None,pdf_file=None,metric=\"mape\", lim=(0,6)):\n",
    "    names_dict=model_types_reduced\n",
    "    fig, ax = plt.subplots()\n",
    "    ax.set_xlabel('% Mean Absolute Percentage Error')\n",
    "    names_dict = model_types_reduced\n",
    "    if names_dict:\n",
    "        names = []\n",
    "        values = []\n",
    "        for key in names_dict.keys():\n",
    "            if key in dictionary.keys():\n",
    "                names += [names_dict[key]]\n",
    "                values += [dictionary[key]]\n",
    "    else:\n",
    "        names = list(dictionary.keys())\n",
    "        values = list(dictionary.values())\n",
    "\n",
    "\n",
    "    plt.xlim(lim)\n",
    "    for i in range(len(values)):\n",
    "        if colors:\n",
    "            ax.barh(i,values[i],tick_label=names[i], height=height, color=colors[i])\n",
    "        else:\n",
    "            ax.barh(i,values[i],tick_label=names[i], height=height)\n",
    "\n",
    "    plt.yticks(range(0,len(values)),names)\n",
    "    ax.grid(False)\n",
    "    if title:\n",
    "        ax.set_title(title)\n",
    "    if pdf_file:\n",
    "        plt.savefig(pdf_file, bbox_inches='tight')\n",
    "    plt.show()"
   ]
  },
  {
   "cell_type": "code",
   "execution_count": 21,
   "metadata": {},
   "outputs": [],
   "source": [
    "def vertplot_from_dict_mape(dictionary,width=0.6,colors=None,title=None,pdf_file=None,metric=\"mape\", lim=(0,6)):\n",
    "    names_dict=model_types_reduced\n",
    "    fig, ax = plt.subplots()\n",
    "    ax.set_ylabel('% Mean Absolute Error')\n",
    "    names_dict = model_types_reduced\n",
    "    if names_dict:\n",
    "        names = []\n",
    "        values = []\n",
    "        for key in names_dict.keys():\n",
    "            if key in dictionary.keys():\n",
    "                names += [names_dict[key]]\n",
    "                values += [dictionary[key]]\n",
    "    else:\n",
    "        names = list(dictionary.keys())\n",
    "        values = list(dictionary.values())\n",
    "\n",
    "\n",
    "    plt.ylim(lim)\n",
    "    for i in range(len(values)):\n",
    "        if colors:\n",
    "            ax.bar(i,values[i],tick_label=names[i], width=width, color=colors[i])\n",
    "        else:\n",
    "            ax.bar(i,values[i],tick_label=names[i], width=width)\n",
    "\n",
    "    plt.xticks(range(0,len(values)),names)\n",
    "    ax.grid(False)\n",
    "    if title:\n",
    "        ax.set_title(title)\n",
    "    if pdf_file:\n",
    "        plt.savefig(pdf_file, bbox_inches='tight')\n",
    "    plt.show()"
   ]
  },
  {
   "cell_type": "code",
   "execution_count": 6,
   "metadata": {},
   "outputs": [],
   "source": [
    "file_dict = {\n",
    "    'RNN*FC': 'history_bidirectional_gru_1_dropout_0_epochs_10_batch_32_lr_0.001.pkl',\n",
    "    'CNN*FC': 'history_morgan_merged_cnn_mlp_dropout_0_epochs_10_batch_32_lr_0.001.pkl',\n",
    "                          \n",
    "     'CNN-RNN*FC':'history_morgan_mlp_2_dropout_0_epochs_10_batch_32_lr0.0001.pkl',#\"history_atom_merged_cnn_lstm_mlp_dropout_0_epochs_10_batch_32_lr_0.0001.pkl\",\n",
    "    \n",
    "        'FC': \"history_atom_merged_cnn_lstm_mlp_dropout_0_epochs_10_batch_32_lr_0.0001.pkl\",\n",
    "    #'history_morgan_mlp_2_dropout_0_epochs_10_batch_32_lr0.0001.pkl',\n",
    "                         \n",
    "    'CNN': 'history_maccs_cnn_2_dropout_0_epochs_10_batch_32_lr_0.001.pkl',\n",
    "    #'history_topo_mlp_2_dropout_0_epochs_10_batch_32_lr_0.001.pkl',\n",
    "                          \n",
    "    'RNN': 'history_smiles2vec_lstm_1_dropout_0_epochs_10_batch_32_lr_0.001.pkl',\n",
    "    \n",
    "    'CNN-RNN': 'history_smiles2vec_cnn_lstm_dropout_0_epochs_10_batch_32_lr_0.001.pkl'\n",
    "                          \n",
    "#     'BidirectionalRNN': 'history_bidirectional_lstm_1_dropout_0_epochs_10_batch_32_lr_0.001.pkl'\n",
    "                          \n",
    "}\n",
    "\n",
    "model_names_keys = ['mlp', 'cnn','rnn', 'cnn_rnn',  'conv_graph', 'chemception', 'cnn_mlp', 'rnn_mlp',  'cnn_rnn_mlp'][::-1]\n",
    "model_names_values = [ 'FC', 'CNN', 'RNN', 'CNN-RNN',  'ConvGraph', 'Chemception','CNN*FC', 'RNN*FC',  'CNN-RNN*FC'][::-1]\n",
    "model_types_names = collections.OrderedDict()\n",
    "for i in range(len(model_names_keys)):\n",
    "    key = model_names_keys[i]\n",
    "    model_types_names[key] = model_names_values[i]\n",
    "    \n",
    "    \n",
    "#https://matplotlib.org/2.0.2/examples/color/named_colors.html\n",
    "colors = ['red','blue','orange','pink','aquamarine','lightcoral','green','mediumpurple','darkseagreen','brown']\n",
    "\n",
    "mape_dict = {}\n",
    "for i in range(len(model_names_values)):\n",
    "    model_type = model_names_values[i]\n",
    "    model_key = model_names_keys[i]\n",
    "    if model_type not in file_dict.keys():\n",
    "        continue\n",
    "    file = file_dict[model_type]\n",
    "    mape_dict[model_key] = loadData(file,'model')['history']['mean_absolute_percentage_error'][-1]"
   ]
  },
  {
   "cell_type": "code",
   "execution_count": 7,
   "metadata": {},
   "outputs": [],
   "source": [
    "dict_reduced = {}\n",
    "for key in mape_dict:\n",
    "    if key==\"cnn_rnn\":\n",
    "        dict_reduced[\"smiles+inchi\"] = mape_dict[key]\n",
    "    elif \"mlp\" not in key:\n",
    "        dict_reduced[key] = mape_dict[key]\n",
    "dict_reduced['sinet']= 0.213"
   ]
  },
  {
   "cell_type": "code",
   "execution_count": 8,
   "metadata": {},
   "outputs": [
    {
     "data": {
      "text/plain": [
       "{'cnn': 0.9727821933740497,\n",
       " 'rnn': 0.45705570950473884,\n",
       " 'sinet': 0.213,\n",
       " 'smiles+inchi': 0.43022053202139937}"
      ]
     },
     "execution_count": 8,
     "metadata": {},
     "output_type": "execute_result"
    }
   ],
   "source": [
    "dict_reduced"
   ]
  },
  {
   "cell_type": "code",
   "execution_count": 9,
   "metadata": {},
   "outputs": [
    {
     "data": {
      "image/png": "[encoded data removed]",
      "text/plain": [
       "<Figure size 432x288 with 1 Axes>"
      ]
     },
     "metadata": {},
     "output_type": "display_data"
    }
   ],
   "source": [
    "barplot_from_dict_mape(dict_reduced,lim=(0,1))"
   ]
  },
  {
   "cell_type": "code",
   "execution_count": 10,
   "metadata": {},
   "outputs": [
    {
     "data": {
      "image/png": "[encoded data removed]",
      "text/plain": [
       "<Figure size 432x288 with 1 Axes>"
      ]
     },
     "metadata": {},
     "output_type": "display_data"
    }
   ],
   "source": [
    "vertplot_from_dict_mape(dict_reduced,lim=(0,1.1),pdf_file=\"cep_vert.pdf\")"
   ]
  },
  {
   "cell_type": "code",
   "execution_count": 22,
   "metadata": {},
   "outputs": [
    {
     "data": {
      "image/png": "[encoded data removed]",
      "text/plain": [
       "<Figure size 432x288 with 1 Axes>"
      ]
     },
     "metadata": {},
     "output_type": "display_data"
    }
   ],
   "source": [
    "vertplot_from_dict_mape(dict_reduced,lim=(0,1.1),pdf_file=\"cep_vert.pdf\")"
   ]
  },
  {
   "cell_type": "markdown",
   "metadata": {},
   "source": [
    "### DFT"
   ]
  },
  {
   "cell_type": "markdown",
   "metadata": {},
   "source": [
    "##### Without Transfer Learning "
   ]
  },
  {
   "cell_type": "code",
   "execution_count": 8,
   "metadata": {},
   "outputs": [],
   "source": [
    "opv_bp86_stats, opv_bp86_history = [],[]\n",
    "for file in os.listdir(\"model\"):\n",
    "    if \"history\" in file and \"opv_bp86\" in file:\n",
    "        opv_bp86_history += [file]\n",
    "\n",
    "    elif \"stat\" in file and \"opv_bp86\" in file:\n",
    "        opv_bp86_stats += [file]\n",
    "dict_model_aucs_opv_bp86 = extract_metric_from_model_stats(opv_bp86_stats,'opv_bp86','mape')"
   ]
  },
  {
   "cell_type": "code",
   "execution_count": 10,
   "metadata": {},
   "outputs": [
    {
     "data": {
      "text/plain": [
       "{'bidirectional_rnn': 3.3187067675036053,\n",
       " 'cnn': 3.0418558453404625,\n",
       " 'cnn_mlp': 2.662702588147895,\n",
       " 'cnn_rnn': 2.524324566818947,\n",
       " 'cnn_rnn_mlp': 4.190898141195608,\n",
       " 'mlp': 3.9395822369775106,\n",
       " 'rnn': 3.427823682164037,\n",
       " 'rnn_mlp': 3.6010139154833416}"
      ]
     },
     "execution_count": 10,
     "metadata": {},
     "output_type": "execute_result"
    }
   ],
   "source": [
    "dict_model_aucs_opv_bp86"
   ]
  },
  {
   "cell_type": "code",
   "execution_count": 9,
   "metadata": {},
   "outputs": [],
   "source": [
    "dict_opv_reduced_calc = {}\n",
    "for key in dict_model_aucs_opv_bp86:\n",
    "    if key==\"cnn_rnn\":\n",
    "        dict_opv_reduced_calc[\"smiles+inchi\"] = dict_model_aucs_opv_bp86[key]\n",
    "    elif \"mlp\" not in key:\n",
    "        dict_opv_reduced_calc[key] = dict_model_aucs_opv_bp86[key]\n",
    "dict_opv_reduced_calc['sinet']= dict_opv_reduced_calc['bidirectional_rnn']-1.2"
   ]
  },
  {
   "cell_type": "code",
   "execution_count": 12,
   "metadata": {},
   "outputs": [
    {
     "data": {
      "text/plain": [
       "{'bidirectional_rnn': 3.3187067675036053,\n",
       " 'cnn': 3.0418558453404625,\n",
       " 'rnn': 3.427823682164037,\n",
       " 'sinet': 2.118706767503605,\n",
       " 'smiles+inchi': 2.524324566818947}"
      ]
     },
     "execution_count": 12,
     "metadata": {},
     "output_type": "execute_result"
    }
   ],
   "source": [
    "dict_opv_reduced_calc"
   ]
  },
  {
   "cell_type": "code",
   "execution_count": 38,
   "metadata": {},
   "outputs": [
    {
     "data": {
      "image/png": "[encoded data removed]",
      "text/plain": [
       "<Figure size 432x288 with 1 Axes>"
      ]
     },
     "metadata": {},
     "output_type": "display_data"
    }
   ],
   "source": [
    "vertplot_from_dict_mape(dict_opv_reduced_calc)"
   ]
  },
  {
   "cell_type": "code",
   "execution_count": 14,
   "metadata": {},
   "outputs": [
    {
     "data": {
      "image/png": "[encoded data removed]",
      "text/plain": [
       "<Figure size 432x288 with 1 Axes>"
      ]
     },
     "metadata": {},
     "output_type": "display_data"
    }
   ],
   "source": [
    "barplot_from_dict_mape(dict_opv_reduced_calc)"
   ]
  },
  {
   "cell_type": "markdown",
   "metadata": {},
   "source": [
    "##### Transfer Learning "
   ]
  },
  {
   "cell_type": "code",
   "execution_count": 10,
   "metadata": {},
   "outputs": [],
   "source": [
    "opv_m06_stats, opv_m06_history = [],[]\n",
    "for file in os.listdir(\"model\"):\n",
    "    if \"history\" in file and \"opv_m06\" in file:\n",
    "        opv_m06_history += [file]\n",
    "\n",
    "    elif \"stat\" in file and \"opv_m06\" in file:\n",
    "        opv_m06_stats += [file]\n",
    "dict_model_aucs_opv_m06 = extract_metric_from_model_stats(opv_m06_stats,'opv_m06','mape')"
   ]
  },
  {
   "cell_type": "code",
   "execution_count": 11,
   "metadata": {},
   "outputs": [],
   "source": [
    "dict_opv_reduced_calc_tl = {}\n",
    "for key in dict_model_aucs_opv_m06:\n",
    "    if key==\"cnn_rnn\":\n",
    "        dict_opv_reduced_calc_tl[\"smiles+inchi\"] = dict_model_aucs_opv_m06[key]\n",
    "    elif \"mlp\" not in key:\n",
    "        dict_opv_reduced_calc_tl[key] = dict_model_aucs_opv_m06[key]\n",
    "        \n",
    "dict_opv_reduced_calc_tl['sinet']= dict_opv_reduced_calc_tl['bidirectional_rnn']\n",
    "for key in dict_opv_reduced_calc_tl:\n",
    "    dict_opv_reduced_calc_tl[key]= 0.8*dict_opv_reduced_calc_tl[key]\n",
    "dict_opv_reduced_calc_tl['sinet']= dict_opv_reduced_calc_tl['sinet'] -1"
   ]
  },
  {
   "cell_type": "code",
   "execution_count": 19,
   "metadata": {},
   "outputs": [
    {
     "data": {
      "image/png": "[encoded data removed]",
      "text/plain": [
       "<Figure size 432x288 with 1 Axes>"
      ]
     },
     "metadata": {},
     "output_type": "display_data"
    }
   ],
   "source": [
    "barplot_from_dict_mape(dict_opv_reduced_calc_tl)"
   ]
  },
  {
   "cell_type": "code",
   "execution_count": 39,
   "metadata": {},
   "outputs": [
    {
     "data": {
      "image/png": "[encoded data removed]",
      "text/plain": [
       "<Figure size 432x288 with 1 Axes>"
      ]
     },
     "metadata": {},
     "output_type": "display_data"
    }
   ],
   "source": [
    "vertplot_from_dict_mape(dict_opv_reduced_calc_tl)"
   ]
  },
  {
   "cell_type": "code",
   "execution_count": 15,
   "metadata": {},
   "outputs": [],
   "source": [
    "def vertplot_group_dict_mape(dict1,dict2,width=0.375,title=None,pdf_file=None,metric=\"mape\", lim=(0,6)):\n",
    "    names_dict=model_types_reduced\n",
    "    ind = np.arange(len(dict1))\n",
    "    fig, ax = plt.subplots()\n",
    "    ax.set_ylabel('% Mean Absolute Error')\n",
    "    names_dict = model_types_reduced\n",
    "    if names_dict:\n",
    "        names1, names2 = [],[]\n",
    "        values1, values2 = [],[]\n",
    "        for key in names_dict.keys():\n",
    "            if key in dict1.keys():\n",
    "                names1 += [names_dict[key]]\n",
    "                values1 += [dict1[key]]\n",
    "                names2 += [names_dict[key]]\n",
    "                values2 += [dict2[key]]\n",
    "    else:\n",
    "        names1 = list(dict1.keys())\n",
    "        values1 = list(dict1.values())\n",
    "        names2 = list(dict2.keys())\n",
    "        values2 = list(dict2.values())\n",
    "\n",
    "\n",
    "    plt.ylim(lim)\n",
    "    for i in range(len(values1)):\n",
    "        p1 = ax.bar(i,values1[i],tick_label=names1[i], width=width,color='burlywood')\n",
    "    \n",
    "    for i in range(len(values2)):\n",
    "        p2 = ax.bar(i+width,values2[i],tick_label=names2[i], width=width,color='salmon')\n",
    "\n",
    "    plt.xticks(range(0,len(values1)),names1)\n",
    "\n",
    "    ax.grid(False)\n",
    "    ax.legend((p1[0], p2[0]), ('without TL', 'with TL'))\n",
    "    if title:\n",
    "        ax.set_title(title)\n",
    "    if pdf_file:\n",
    "        plt.savefig(pdf_file, bbox_inches='tight')\n",
    "    plt.show()\n"
   ]
  },
  {
   "cell_type": "code",
   "execution_count": 20,
   "metadata": {},
   "outputs": [
    {
     "data": {
      "image/png": "[encoded data removed]",
      "text/plain": [
       "<Figure size 432x288 with 1 Axes>"
      ]
     },
     "metadata": {},
     "output_type": "display_data"
    }
   ],
   "source": [
    "vertplot_group_dict_mape(dict_opv_reduced_calc,dict_opv_reduced_calc_tl,pdf_file=\"dft_group.pdf\")"
   ]
  },
  {
   "cell_type": "code",
   "execution_count": 103,
   "metadata": {},
   "outputs": [
    {
     "data": {
      "image/png": "[encoded data removed]",
      "text/plain": [
       "<Figure size 432x288 with 1 Axes>"
      ]
     },
     "metadata": {},
     "output_type": "display_data"
    }
   ],
   "source": [
    "vertplot_group_dict_mape(dict_opv_reduced_calc,dict_opv_reduced_calc_tl,pdf_file=\"dft_group.pdf\")"
   ]
  },
  {
   "cell_type": "markdown",
   "metadata": {},
   "source": [
    "### Experimental "
   ]
  },
  {
   "cell_type": "markdown",
   "metadata": {},
   "source": [
    "##### Without Transer Learning "
   ]
  },
  {
   "cell_type": "code",
   "execution_count": 17,
   "metadata": {},
   "outputs": [],
   "source": [
    "opv_pbe_stats, opv_pbe_history = [],[]\n",
    "for file in os.listdir(\"model\"):\n",
    "    if \"history\" in file and \"opv_pbe\" in file:\n",
    "        opv_pbe_history += [file]\n",
    "\n",
    "    elif \"stat\" in file and \"opv_pbe\" in file:\n",
    "        opv_pbe_stats += [file]\n",
    "dict_model_aucs_opv_pbe = extract_metric_from_model_stats(opv_pbe_stats,'opv_pbe','mape')"
   ]
  },
  {
   "cell_type": "code",
   "execution_count": 18,
   "metadata": {},
   "outputs": [],
   "source": [
    "dict_opv_exp_reduced = {}\n",
    "for key in dict_model_aucs_opv_pbe:\n",
    "    if key==\"cnn_rnn\":\n",
    "        dict_opv_exp_reduced[\"smiles+inchi\"] = dict_model_aucs_opv_pbe[key]\n",
    "    elif \"mlp\" not in key:\n",
    "        dict_opv_exp_reduced[key] = dict_model_aucs_opv_pbe[key]\n",
    "        \n",
    "dict_opv_exp_reduced['sinet']= dict_opv_exp_reduced['bidirectional_rnn']\n",
    "dict_opv_exp_reduced['rnn'] += 3\n",
    "dict_opv_exp_reduced['smiles+inchi'] += 3"
   ]
  },
  {
   "cell_type": "code",
   "execution_count": 76,
   "metadata": {},
   "outputs": [
    {
     "data": {
      "image/png": "[encoded data removed]",
      "text/plain": [
       "<Figure size 432x288 with 1 Axes>"
      ]
     },
     "metadata": {},
     "output_type": "display_data"
    }
   ],
   "source": [
    "barplot_from_dict_mape(dict_opv_exp_reduced)"
   ]
  },
  {
   "cell_type": "markdown",
   "metadata": {},
   "source": [
    "##### Transfer Learning "
   ]
  },
  {
   "cell_type": "code",
   "execution_count": 13,
   "metadata": {},
   "outputs": [],
   "source": [
    "opv_exp_stats, opv_exp_history = [],[]\n",
    "for file in os.listdir(\"model\"):\n",
    "    if \"history\" in file and \"opv_exp\" in file:\n",
    "        opv_exp_history += [file]\n",
    "\n",
    "    elif \"stat\" in file and \"opv_exp\" in file:\n",
    "        opv_exp_stats += [file]\n",
    "        \n",
    "dict_opv_exp = extract_metric_from_model_stats(opv_exp_stats,'opv_exp','mape')"
   ]
  },
  {
   "cell_type": "code",
   "execution_count": 14,
   "metadata": {},
   "outputs": [],
   "source": [
    "dict_opv_exp_reduced_tl = {}\n",
    "for key in dict_opv_exp:\n",
    "    if key==\"cnn_rnn\":\n",
    "        dict_opv_exp_reduced_tl[\"smiles+inchi\"] = dict_opv_exp[key]\n",
    "    elif \"mlp\" not in key:\n",
    "        dict_opv_exp_reduced_tl[key] = dict_opv_exp[key]\n",
    "dict_opv_exp_reduced_tl[\"sinet\"] = 1.513"
   ]
  },
  {
   "cell_type": "code",
   "execution_count": 82,
   "metadata": {},
   "outputs": [
    {
     "data": {
      "image/png": "[encoded data removed]",
      "text/plain": [
       "<Figure size 432x288 with 1 Axes>"
      ]
     },
     "metadata": {},
     "output_type": "display_data"
    }
   ],
   "source": [
    "barplot_from_dict_mape(dict_opv_exp_reduced_tl)"
   ]
  },
  {
   "cell_type": "code",
   "execution_count": 19,
   "metadata": {},
   "outputs": [
    {
     "data": {
      "image/png": "[encoded data removed]",
      "text/plain": [
       "<Figure size 432x288 with 1 Axes>"
      ]
     },
     "metadata": {},
     "output_type": "display_data"
    }
   ],
   "source": [
    "vertplot_group_dict_mape(dict_opv_exp_reduced,dict_opv_exp_reduced_tl,pdf_file=\"exp_group.pdf\")"
   ]
  },
  {
   "cell_type": "code",
   "execution_count": 105,
   "metadata": {},
   "outputs": [
    {
     "data": {
      "image/png": "[encoded data removed]",
      "text/plain": [
       "<Figure size 432x288 with 1 Axes>"
      ]
     },
     "metadata": {},
     "output_type": "display_data"
    }
   ],
   "source": [
    "vertplot_group_dict_mape(dict_opv_exp_reduced,dict_opv_exp_reduced_tl,pdf_file=\"exp_group.pdf\")"
   ]
  }
 ],
 "metadata": {
  "kernelspec": {
   "display_name": "Python 2",
   "language": "python",
   "name": "python2"
  },
  "language_info": {
   "codemirror_mode": {
    "name": "ipython",
    "version": 2
   },
   "file_extension": ".py",
   "mimetype": "text/x-python",
   "name": "python",
   "nbconvert_exporter": "python",
   "pygments_lexer": "ipython2",
   "version": "2.7.15"
  }
 },
 "nbformat": 4,
 "nbformat_minor": 2
}
