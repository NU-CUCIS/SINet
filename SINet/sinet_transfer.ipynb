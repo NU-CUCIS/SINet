{
 "cells": [
  {
   "cell_type": "code",
   "execution_count": null,
   "metadata": {},
   "outputs": [],
   "source": [
    "from dl_util import *\n",
    "from ml_util import *\n",
    "\n",
    "from sinet_util import *\n",
    "from run_eval import split_fit_plot_predict"
   ]
  },
  {
   "cell_type": "code",
   "execution_count": null,
   "metadata": {},
   "outputs": [],
   "source": [
    "def get_maxlen(text_representation):\n",
    "    #text_representation is either smiles or inchi \n",
    "    len_representation = []\n",
    "    for text in text_representation:\n",
    "        len_representation += [len(text)]\n",
    "    \n",
    "    return max(len_representation)"
   ]
  },
  {
   "cell_type": "code",
   "execution_count": null,
   "metadata": {},
   "outputs": [],
   "source": [
    "cep_smiles = loadData('SMILES_1_7')\n",
    "cep_smiles_encodings = generate_onehot_encoding(cep_smiles)\n",
    "cep_smiles_maxlen = get_maxlen(cep_smiles)\n",
    "cep_smiles_vocab_size = generate_onehot_encoding(cep_smiles,'vocab_size')\n",
    "cep_smiles_sequences = sequence.pad_sequences(cep_smiles_encodings, maxlen=cep_smiles_maxlen)"
   ]
  },
  {
   "cell_type": "code",
   "execution_count": null,
   "metadata": {},
   "outputs": [],
   "source": [
    "len(cep_smiles_sequences[0])"
   ]
  },
  {
   "cell_type": "code",
   "execution_count": null,
   "metadata": {},
   "outputs": [],
   "source": [
    "cep_smiles_maxlen,cep_smiles_vocab_size"
   ]
  },
  {
   "cell_type": "code",
   "execution_count": null,
   "metadata": {},
   "outputs": [],
   "source": [
    "cep_homo = loadNumpy('HOMO_1_7')"
   ]
  },
  {
   "cell_type": "code",
   "execution_count": null,
   "metadata": {},
   "outputs": [],
   "source": [
    "vocab, embedding_length,num_gated_connections = cep_smiles_vocab_size,32,100\n",
    "\n",
    "model = Sequential()\n",
    "\n",
    "model.add(Embedding(vocab, embedding_length, input_length=cep_smiles_maxlen))\n",
    "model.add(Conv1D(filters=32, kernel_size=3, padding='same', activation='relu'))\n",
    "model.add(MaxPooling1D(pool_size=2))\n",
    "model.add(Conv1D(filters=32, kernel_size=3, padding='same', activation='relu'))\n",
    "model.add(MaxPooling1D(pool_size=2))\n",
    "model.add(Flatten())\n",
    "model.add(Dense(1))\n",
    "\n",
    "model.compile(loss='mse',optimizer='adam', metrics=['mape'])\n",
    "model.summary()"
   ]
  },
  {
   "cell_type": "code",
   "execution_count": null,
   "metadata": {},
   "outputs": [],
   "source": [
    "history = model.fit(cep_smiles_sequences, cep_homo,  shuffle=True, validation_split=0.1, \\\n",
    "                        epochs=10, batch_size=64, verbose=1)"
   ]
  },
  {
   "cell_type": "code",
   "execution_count": null,
   "metadata": {},
   "outputs": [],
   "source": [
    "cep_inchi = loadData('cep_inchi')\n",
    "cep_inchi_encodings = generate_onehot_encoding(cep_inchi)\n",
    "cep_inchi_maxlen = get_maxlen(cep_inchi)\n",
    "cep_inchi_vocab_size = generate_onehot_encoding(cep_inchi,'vocab_size')\n",
    "cep_inchi_sequences = sequence.pad_sequences(cep_inchi_encodings, maxlen=cep_inchi_maxlen)"
   ]
  },
  {
   "cell_type": "code",
   "execution_count": null,
   "metadata": {},
   "outputs": [],
   "source": [
    "cep_inchi_maxlen,cep_inchi_vocab_size\n"
   ]
  },
  {
   "cell_type": "code",
   "execution_count": null,
   "metadata": {},
   "outputs": [],
   "source": [
    "vocab, embedding_length,num_gated_connections = cep_inchi_vocab_size,32,100\n",
    "\n",
    "model = Sequential()\n",
    "\n",
    "model.add(Embedding(vocab, embedding_length, input_length=cep_inchi_maxlen))\n",
    "model.add(Conv1D(filters=32, kernel_size=3, padding='same', activation='relu'))\n",
    "model.add(MaxPooling1D(pool_size=2))\n",
    "model.add(Conv1D(filters=32, kernel_size=3, padding='same', activation='relu'))\n",
    "model.add(MaxPooling1D(pool_size=2))\n",
    "model.add(Flatten())\n",
    "model.add(Dense(1))\n",
    "\n",
    "model.compile(loss='mse',optimizer='adam', metrics=['mape'])\n",
    "model.summary()"
   ]
  },
  {
   "cell_type": "code",
   "execution_count": null,
   "metadata": {},
   "outputs": [],
   "source": [
    "history = model.fit(cep_inchi_sequences, cep_homo,  shuffle=True, validation_split=0.1, \\\n",
    "                        epochs=2, batch_size=64, verbose=1)"
   ]
  },
  {
   "cell_type": "markdown",
   "metadata": {},
   "source": [
    "### FreeSolv"
   ]
  },
  {
   "cell_type": "code",
   "execution_count": null,
   "metadata": {},
   "outputs": [],
   "source": [
    "freesolv_inchi = loadData('freesolv_inchi')"
   ]
  },
  {
   "cell_type": "code",
   "execution_count": null,
   "metadata": {},
   "outputs": [],
   "source": [
    "freesolv_solvation_calc = loadNumpy(\"freesolv_solvation_calc\")"
   ]
  },
  {
   "cell_type": "code",
   "execution_count": null,
   "metadata": {},
   "outputs": [],
   "source": [
    "freesolv_inchi_encodings = generate_onehot_encoding(freesolv_inchi)"
   ]
  },
  {
   "cell_type": "code",
   "execution_count": null,
   "metadata": {},
   "outputs": [],
   "source": [
    "freesolv_inchi_maxlen = get_maxlen(freesolv_inchi)\n",
    "freesolv_inchi_vocab_size = generate_onehot_encoding(freesolv_inchi,'vocab_size')"
   ]
  },
  {
   "cell_type": "code",
   "execution_count": null,
   "metadata": {},
   "outputs": [],
   "source": [
    "freesolv_inchi_sequences = sequence.pad_sequences(freesolv_inchi_encodings, maxlen=freesolv_inchi_maxlen)"
   ]
  },
  {
   "cell_type": "code",
   "execution_count": null,
   "metadata": {},
   "outputs": [],
   "source": [
    "freesolv_inchi_sequences[0]"
   ]
  },
  {
   "cell_type": "code",
   "execution_count": null,
   "metadata": {},
   "outputs": [],
   "source": [
    "freesolv_inchi_maxlen,freesolv_inchi_vocab_size"
   ]
  },
  {
   "cell_type": "code",
   "execution_count": null,
   "metadata": {},
   "outputs": [],
   "source": [
    "len(freesolv_inchi)"
   ]
  },
  {
   "cell_type": "markdown",
   "metadata": {},
   "source": [
    "### SMILES Model"
   ]
  },
  {
   "cell_type": "code",
   "execution_count": null,
   "metadata": {},
   "outputs": [],
   "source": [
    "freesolv_smiles = loadData('freesolv_smiles')"
   ]
  },
  {
   "cell_type": "code",
   "execution_count": null,
   "metadata": {},
   "outputs": [],
   "source": [
    "freesolv_smiles_encodings = generate_onehot_encoding(freesolv_smiles)\n",
    "freesolv_smiles_maxlen = get_maxlen(freesolv_smiles)\n",
    "freesolv_smiles_vocab_size = generate_onehot_encoding(freesolv_smiles,'vocab_size')\n",
    "freesolv_smiles_sequences = sequence.pad_sequences(freesolv_smiles_encodings, maxlen=freesolv_smiles_maxlen)"
   ]
  },
  {
   "cell_type": "code",
   "execution_count": null,
   "metadata": {},
   "outputs": [],
   "source": [
    "freesolv_smiles_maxlen,freesolv_smiles_vocab_size"
   ]
  },
  {
   "cell_type": "code",
   "execution_count": null,
   "metadata": {},
   "outputs": [],
   "source": [
    "vocab, embedding_length,num_gated_connections = freesolv_smiles_vocab_size,32,100\n",
    "\n",
    "model = Sequential()\n",
    "\n",
    "model.add(Embedding(vocab, embedding_length, input_length=freesolv_smiles_maxlen))\n",
    "model.add(GRU(num_gated_connections))\n",
    "\n",
    "model.add(Dense(1))\n",
    "model.compile(loss='mse',optimizer='adam', metrics=['mape'])\n",
    "model.summary()"
   ]
  },
  {
   "cell_type": "code",
   "execution_count": null,
   "metadata": {},
   "outputs": [],
   "source": [
    "history = model.fit(freesolv_smiles_sequences, freesolv_solvation_calc,  shuffle=True, validation_split=0.1, \\\n",
    "                        epochs=3, batch_size=4, verbose=1)"
   ]
  },
  {
   "cell_type": "code",
   "execution_count": null,
   "metadata": {},
   "outputs": [],
   "source": [
    "vocab, embedding_length,num_gated_connections = freesolv_smiles_vocab_size,32,100\n",
    "\n",
    "model = Sequential()\n",
    "\n",
    "model.add(Embedding(vocab, embedding_length, input_length=freesolv_smiles_maxlen))\n",
    "model.add(Conv1D(filters=32, kernel_size=3, padding='same', activation='relu'))\n",
    "model.add(MaxPooling1D(pool_size=2))\n",
    "model.add(Conv1D(filters=32, kernel_size=3, padding='same', activation='relu'))\n",
    "model.add(MaxPooling1D(pool_size=2))\n",
    "model.add(Flatten())\n",
    "model.add(Dense(1))\n",
    "\n",
    "model.compile(loss='mse',optimizer='adam', metrics=['mape'])\n",
    "model.summary()"
   ]
  },
  {
   "cell_type": "code",
   "execution_count": null,
   "metadata": {},
   "outputs": [],
   "source": [
    "history = model.fit(freesolv_smiles_sequences, freesolv_solvation_calc,  shuffle=True, validation_split=0.1, \\\n",
    "                        epochs=3, batch_size=4, verbose=1)"
   ]
  },
  {
   "cell_type": "markdown",
   "metadata": {},
   "source": [
    "### InChi Model"
   ]
  },
  {
   "cell_type": "code",
   "execution_count": null,
   "metadata": {},
   "outputs": [],
   "source": [
    "vocab, embedding_length,num_gated_connections = freesolv_inchi_vocab_size,32,100\n",
    "\n",
    "model = Sequential()\n",
    "\n",
    "model.add(Embedding(vocab, embedding_length, input_length=freesolv_inchi_maxlen))\n",
    "model.add(GRU(num_gated_connections))\n",
    "\n",
    "model.add(Dense(1))\n",
    "model.compile(loss='mse',optimizer='adam', metrics=['mape'])\n",
    "model.summary()"
   ]
  },
  {
   "cell_type": "code",
   "execution_count": null,
   "metadata": {},
   "outputs": [],
   "source": [
    "freesolv_inchi_maxlen"
   ]
  },
  {
   "cell_type": "code",
   "execution_count": null,
   "metadata": {},
   "outputs": [],
   "source": [
    "history = model.fit(freesolv_inchi_sequences, freesolv_solvation_calc,  shuffle=True, validation_split=0.1, \\\n",
    "                        epochs=10, batch_size=4, verbose=1)"
   ]
  },
  {
   "cell_type": "code",
   "execution_count": null,
   "metadata": {},
   "outputs": [],
   "source": []
  }
 ],
 "metadata": {
  "kernelspec": {
   "display_name": "Python 2",
   "language": "python",
   "name": "python2"
  },
  "language_info": {
   "codemirror_mode": {
    "name": "ipython",
    "version": 2
   },
   "file_extension": ".py",
   "mimetype": "text/x-python",
   "name": "python",
   "nbconvert_exporter": "python",
   "pygments_lexer": "ipython2",
   "version": "2.7.15"
  }
 },
 "nbformat": 4,
 "nbformat_minor": 2
}
